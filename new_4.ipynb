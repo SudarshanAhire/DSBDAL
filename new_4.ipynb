{
 "cells": [
  {
   "cell_type": "code",
   "execution_count": 3,
   "id": "5e38c8df",
   "metadata": {},
   "outputs": [
    {
     "name": "stdout",
     "output_type": "stream",
     "text": [
      "Coefficients: [[ 4.44870466e-01  9.55004561e-03 -1.21991503e-01  7.79144696e-01\n",
      "  -7.68990808e-08 -3.29948505e-03 -4.19131153e-01 -4.34103468e-01]]\n",
      "Predictions: [[0.72563462]\n",
      " [1.76650223]\n",
      " [2.70545812]\n",
      " ...\n",
      " [1.25803135]\n",
      " [1.66673014]\n",
      " [2.25826279]]\n",
      "Predicted: [2.70545812]\n",
      "Actual: Target    5.00001\n",
      "Name: 15663, dtype: float64\n",
      "MSE (numpy): 2.1456921610957296\n",
      "MSE (sklearn): 0.5369686543372468\n"
     ]
    }
   ],
   "source": [
    "from sklearn.datasets import fetch_california_housing\n",
    "from sklearn.model_selection import train_test_split\n",
    "from sklearn import linear_model\n",
    "from sklearn.metrics import mean_squared_error\n",
    "import pandas as pd\n",
    "import numpy as np\n",
    "\n",
    "# Load dataset\n",
    "housing = fetch_california_housing()\n",
    "df_x = pd.DataFrame(housing.data, columns=housing.feature_names)\n",
    "df_y = pd.DataFrame(housing.target, columns=[\"Target\"])\n",
    "\n",
    "# Split dataset (67% train, 33% test)\n",
    "x_train, x_test, y_train, y_test = train_test_split(df_x, df_y, test_size=0.33, random_state=42)\n",
    "\n",
    "# Train Linear Regression model\n",
    "reg = linear_model.LinearRegression()\n",
    "reg.fit(x_train, y_train)\n",
    "\n",
    "# Coefficients\n",
    "print(\"Coefficients:\", reg.coef_)\n",
    "\n",
    "# Predict on test data\n",
    "y_pred = reg.predict(x_test)\n",
    "print(\"Predictions:\", y_pred)\n",
    "\n",
    "# Compare prediction vs actual\n",
    "print(\"Predicted:\", y_pred[2])\n",
    "print(\"Actual:\", y_test.iloc[2])\n",
    "\n",
    "# Model evaluation - Mean Squared Error\n",
    "print(\"MSE (numpy):\", np.mean((y_pred - y_test.values.flatten()) ** 2))\n",
    "print(\"MSE (sklearn):\", mean_squared_error(y_test, y_pred))\n"
   ]
  }
 ],
 "metadata": {
  "kernelspec": {
   "display_name": "Python 3",
   "language": "python",
   "name": "python3"
  },
  "language_info": {
   "codemirror_mode": {
    "name": "ipython",
    "version": 3
   },
   "file_extension": ".py",
   "mimetype": "text/x-python",
   "name": "python",
   "nbconvert_exporter": "python",
   "pygments_lexer": "ipython3",
   "version": "3.13.1"
  }
 },
 "nbformat": 4,
 "nbformat_minor": 5
}
