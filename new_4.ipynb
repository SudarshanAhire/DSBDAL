{
 "cells": [
  {
   "cell_type": "code",
   "execution_count": null,
   "id": "5e38c8df",
   "metadata": {},
   "outputs": [],
   "source": [
    "from sklearn.datasets import load_boston\n",
    "from sklearn.model_selection import train_test_split\n",
    "from sklearn import linear_model\n",
    "from sklearn.metrics import mean_squared_error\n",
    "import pandas as pd\n",
    "import numpy as np\n",
    "\n",
    "# Load dataset\n",
    "boston = load_boston()\n",
    "df_x = pd.DataFrame(boston.data, columns=boston.feature_names)\n",
    "df_y = pd.DataFrame(boston.target)\n",
    "\n",
    "# Split dataset (67% train, 33% test)\n",
    "x_train, x_test, y_train, y_test = train_test_split(df_x, df_y, test_size=0.33, random_state=42)\n",
    "\n",
    "# Train Linear Regression model\n",
    "reg = linear_model.LinearRegression()\n",
    "reg.fit(x_train, y_train)\n",
    "\n",
    "# Coefficients\n",
    "print(\"Coefficients:\", reg.coef_)\n",
    "\n",
    "# Predict on test data\n",
    "y_pred = reg.predict(x_test)\n",
    "print(\"Predictions:\", y_pred)\n",
    "\n",
    "# Compare prediction vs actual\n",
    "print(\"Predicted:\", y_pred[2])\n",
    "print(\"Actual:\", y_test.iloc[2])\n",
    "\n",
    "# Model evaluation - Mean Squared Error\n",
    "print(\"MSE (numpy):\", np.mean((y_pred - y_test) ** 2))\n",
    "print(\"MSE (sklearn):\", mean_squared_error(y_test, y_pred))\n"
   ]
  }
 ],
 "metadata": {
  "language_info": {
   "name": "python"
  }
 },
 "nbformat": 4,
 "nbformat_minor": 5
}
